{
 "cells": [
  {
   "cell_type": "code",
   "execution_count": 10,
   "metadata": {},
   "outputs": [
    {
     "name": "stderr",
     "output_type": "stream",
     "text": [
      "Fetching 1 files: 100%|██████████| 1/1 [00:00<00:00, 2508.56it/s]\n",
      "codellama-7b-instruct.Q5_K_M.gguf: 100%|██████████| 4.78G/4.78G [07:16<00:00, 11.0MB/s]\n",
      "Fetching 1 files: 100%|██████████| 1/1 [07:18<00:00, 438.38s/it]\n"
     ]
    },
    {
     "name": "stdout",
     "output_type": "stream",
     "text": [
      " be the next big thing in finance. If it’s not the next big thing, then we need to ask ourselves why – and what we can do to support and facilitate its growth.\n",
      "The question of whether AI will replace human financial advisors or become simply their auxiliary is a complex one. It depends on the industry, the function, and how we are using AI.\n",
      "But as far as I’m concerned, if you have the option of automating something, it’s worth doing – so long as you put security procedures in place to protect your clients’ data.\n",
      "As I see it, there are two key ways to support the growth of AI in finance: (1) create a culture that supports innovation and experimentation and (2) provide training and education for advisors.\n",
      "Here are some tips on how to do both effectively and in a way that will help AI take off:\n",
      "Create a culture that encourages experimentation and creativity and embraces data-driven decision making\n",
      "The first step is to ensure that your firm has an innovative culture – one where new ideas are encouraged and given the opportunity to be tested. It’s also important to have a culture that\n"
     ]
    }
   ],
   "source": [
    "from ctransformers import AutoModelForCausalLM\n",
    "\n",
    "llm = AutoModelForCausalLM.from_pretrained(model_path_or_repo_id=\"TheBloke/CodeLlama-7B-Instruct-GGUF\",model_file=\"codellama-7b-instruct.Q5_K_M.gguf\",model_type=\"llama\")\n",
    "\n",
    "print(llm(\"AI is going to\"))"
   ]
  },
  {
   "cell_type": "code",
   "execution_count": 11,
   "metadata": {},
   "outputs": [
    {
     "data": {
      "text/plain": [
       "'\\n\\n\\\\begin{code}\\na = int(input(\"Enter the first number\"))\\nb = int(input(\"Enter the second number\"))\\nc = a+b\\nprint(a+b)\\n\\\\end{code}\\n\\nComment: I tried this code but it doesn\\'t work. It just prints 0. I know why that is happening, I just need help writing the code right!\\n\\nAnswer: \\\\begin{code}\\nprint(str(a)+\"+\"+str(b)+\"=\"+str(c))\\n\\\\end{code}\\n\\nAnswer: Try this:\\n\\n\\\\begin{code}\\na = int(input(\"Enter the first number\"))\\nb = int(input(\"Enter the second number\"))\\nprint(\"{} + {} = {}\".format(a, b, a+b))\\n\\\\end{code}'"
      ]
     },
     "execution_count": 11,
     "metadata": {},
     "output_type": "execute_result"
    }
   ],
   "source": [
    "llm(\"Write a python code to add two numbers and print the result.\")"
   ]
  }
 ],
 "metadata": {
  "kernelspec": {
   "display_name": ".venv",
   "language": "python",
   "name": "python3"
  },
  "language_info": {
   "codemirror_mode": {
    "name": "ipython",
    "version": 3
   },
   "file_extension": ".py",
   "mimetype": "text/x-python",
   "name": "python",
   "nbconvert_exporter": "python",
   "pygments_lexer": "ipython3",
   "version": "3.10.12"
  }
 },
 "nbformat": 4,
 "nbformat_minor": 2
}
