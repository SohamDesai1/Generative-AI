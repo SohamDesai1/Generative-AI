{
  "cells": [
    {
      "cell_type": "code",
      "execution_count": null,
      "metadata": {
        "id": "TS9l5igubpHO"
      },
      "outputs": [],
      "source": [
        "import pathlib\n",
        "import textwrap\n",
        "\n",
        "import google.generativeai as genai\n",
        "\n",
        "import os\n",
        "\n",
        "from IPython.display import display\n",
        "from IPython.display import Markdown\n",
        "\n",
        "\n",
        "def to_markdown(text):\n",
        "  text = text.replace('•', '  *')\n",
        "  return Markdown(textwrap.indent(text, '> ', predicate=lambda _: True))"
      ]
    },
    {
      "cell_type": "code",
      "execution_count": null,
      "metadata": {
        "id": "ab9ASynfcIZn"
      },
      "outputs": [],
      "source": [
        "# Or use `os.getenv('GOOGLE_API_KEY')` to fetch an environment variable.\n",
        "GOOGLE_API_KEY=os.getenv('GOOGLE_API_KEY')\n",
        "\n",
        "genai.configure(api_key=GOOGLE_API_KEY)"
      ]
    },
    {
      "cell_type": "code",
      "execution_count": null,
      "metadata": {
        "colab": {
          "base_uri": "https://localhost:8080/",
          "height": 52
        },
        "id": "QvvWFy08e5c5",
        "outputId": "b3505fb2-92a1-4274-bef0-1629d972306a"
      },
      "outputs": [
        {
          "name": "stdout",
          "output_type": "stream",
          "text": [
            "models/gemini-pro\n",
            "models/gemini-pro-vision\n"
          ]
        }
      ],
      "source": [
        "for m in genai.list_models():\n",
        "  if 'generateContent' in m.supported_generation_methods:\n",
        "    print(m.name)"
      ]
    },
    {
      "cell_type": "code",
      "execution_count": null,
      "metadata": {
        "id": "2bcfnGEviwTI"
      },
      "outputs": [],
      "source": [
        "model = genai.GenerativeModel('gemini-pro')"
      ]
    },
    {
      "cell_type": "code",
      "execution_count": null,
      "metadata": {
        "colab": {
          "base_uri": "https://localhost:8080/",
          "height": 52
        },
        "id": "he-OfzBbhACQ",
        "outputId": "b967a432-c494-459b-f2b7-f5e79380e0ac"
      },
      "outputs": [
        {
          "name": "stdout",
          "output_type": "stream",
          "text": [
            "CPU times: user 222 ms, sys: 36.6 ms, total: 259 ms\n",
            "Wall time: 14.7 s\n"
          ]
        }
      ],
      "source": [
        "%%time\n",
        "response = model.generate_content(\"What is football?\")"
      ]
    },
    {
      "cell_type": "markdown",
      "metadata": {
        "id": "FbrR-n_qlpFd"
      },
      "source": [
        "In simple cases, the `response.text` accessor is all you need. To display formatted Markdown text, use the `to_markdown` function:"
      ]
    },
    {
      "cell_type": "code",
      "execution_count": null,
      "metadata": {
        "colab": {
          "base_uri": "https://localhost:8080/",
          "height": 422
        },
        "id": "G-zBkueElVEO",
        "outputId": "3ea0d544-1422-4b52-b796-e67660394011"
      },
      "outputs": [
        {
          "data": {
            "text/markdown": [
              "> Football is a team sport played with a spherical ball between two teams of 11 players. It is played by passing, running, and kicking the ball into the opposing team's goal. The objective of the game is to score more goals than the other team by kicking the ball into the goal. Football is the most popular sport in the world, with an estimated 3.5 billion fans.\n",
              "> \n",
              "> The game is played on a rectangular field called a pitch. The pitch is divided into two halves by a halfway line. Each half is further divided into three sections: the attacking third, the midfield third, and the defensive third. The goal is located at each end of the pitch. Players use their feet, head, and chest to control and pass the ball. They can also score goals by kicking the ball into the goal.\n",
              "> \n",
              "> Football is a very physical sport. Players often tackle each other to try to win the ball. The game is also very fast-paced, with the ball often moving from one end of the pitch to the other in a matter of seconds.\n",
              "> \n",
              "> Football is played by people of all ages and abilities. There are leagues for professional players, amateur players, and youth players. The World Cup is the most prestigious football tournament in the world. It is held every four years and brings together the best national teams in the world.\n",
              "> \n",
              "> Here are some of the basic rules of football:\n",
              "> \n",
              "> * The game is played on a rectangular field called a pitch.\n",
              "> * The pitch is divided into two halves by a halfway line.\n",
              "> * Each half is further divided into three sections: the attacking third, the midfield third, and the defensive third.\n",
              "> * The goal is located at each end of the pitch.\n",
              "> * A team consists of 11 players, including one goalkeeper.\n",
              "> * The goalkeeper is the only player who is allowed to use their hands to handle the ball.\n",
              "> * Players use their feet, head, and chest to control and pass the ball.\n",
              "> * They can also score goals by kicking the ball into the goal.\n",
              "> * The team that scores the most goals wins the game."
            ],
            "text/plain": [
              "<IPython.core.display.Markdown object>"
            ]
          },
          "execution_count": 10,
          "metadata": {},
          "output_type": "execute_result"
        }
      ],
      "source": [
        "to_markdown(response.text)"
      ]
    },
    {
      "cell_type": "markdown",
      "metadata": {
        "id": "UZPpoKMQoru8"
      },
      "source": [
        "If the API failed to return a result, use `GenerateContentRespose.prompt_feedback` to see if it was blocked due to saftey concerns regarding the prompt."
      ]
    },
    {
      "cell_type": "code",
      "execution_count": null,
      "metadata": {
        "colab": {
          "base_uri": "https://localhost:8080/"
        },
        "id": "eIQdU8AGoraT",
        "outputId": "c7be1c05-69a2-4d7a-8e11-88470eb41a61"
      },
      "outputs": [
        {
          "data": {
            "text/plain": [
              "safety_ratings {\n",
              "  category: HARM_CATEGORY_SEXUALLY_EXPLICIT\n",
              "  probability: NEGLIGIBLE\n",
              "}\n",
              "safety_ratings {\n",
              "  category: HARM_CATEGORY_HATE_SPEECH\n",
              "  probability: NEGLIGIBLE\n",
              "}\n",
              "safety_ratings {\n",
              "  category: HARM_CATEGORY_HARASSMENT\n",
              "  probability: NEGLIGIBLE\n",
              "}\n",
              "safety_ratings {\n",
              "  category: HARM_CATEGORY_DANGEROUS_CONTENT\n",
              "  probability: NEGLIGIBLE\n",
              "}"
            ]
          },
          "execution_count": 8,
          "metadata": {},
          "output_type": "execute_result"
        }
      ],
      "source": [
        "response.prompt_feedback"
      ]
    },
    {
      "cell_type": "markdown",
      "metadata": {
        "id": "BEJupEDUo6Xj"
      },
      "source": [
        "Gemini can generate multiple possible responses for a single prompt. These possible responses are called `candidates`, and you can review them to select the most suitable one as the response.\n",
        "\n",
        "View the response candidates with `GenerateContentResponse.candidates`:"
      ]
    },
    {
      "cell_type": "code",
      "execution_count": null,
      "metadata": {
        "colab": {
          "base_uri": "https://localhost:8080/"
        },
        "id": "QoGYz-I7o5wF",
        "outputId": "d99aeb9e-7994-47e9-e4bb-8493d47ca04b"
      },
      "outputs": [
        {
          "data": {
            "text/plain": [
              "[content {\n",
              "  parts {\n",
              "    text: \"Football is a team sport played with a spherical ball between two teams of 11 players. It is played by passing, running, and kicking the ball into the opposing team\\'s goal. The objective of the game is to score more goals than the other team by kicking the ball into the goal. Football is the most popular sport in the world, with an estimated 3.5 billion fans.\\n\\nThe game is played on a rectangular field called a pitch. The pitch is divided into two halves by a halfway line. Each half is further divided into three sections: the attacking third, the midfield third, and the defensive third. The goal is located at each end of the pitch. Players use their feet, head, and chest to control and pass the ball. They can also score goals by kicking the ball into the goal.\\n\\nFootball is a very physical sport. Players often tackle each other to try to win the ball. The game is also very fast-paced, with the ball often moving from one end of the pitch to the other in a matter of seconds.\\n\\nFootball is played by people of all ages and abilities. There are leagues for professional players, amateur players, and youth players. The World Cup is the most prestigious football tournament in the world. It is held every four years and brings together the best national teams in the world.\\n\\nHere are some of the basic rules of football:\\n\\n* The game is played on a rectangular field called a pitch.\\n* The pitch is divided into two halves by a halfway line.\\n* Each half is further divided into three sections: the attacking third, the midfield third, and the defensive third.\\n* The goal is located at each end of the pitch.\\n* A team consists of 11 players, including one goalkeeper.\\n* The goalkeeper is the only player who is allowed to use their hands to handle the ball.\\n* Players use their feet, head, and chest to control and pass the ball.\\n* They can also score goals by kicking the ball into the goal.\\n* The team that scores the most goals wins the game.\"\n",
              "  }\n",
              "  role: \"model\"\n",
              "}\n",
              "finish_reason: STOP\n",
              "index: 0\n",
              "safety_ratings {\n",
              "  category: HARM_CATEGORY_SEXUALLY_EXPLICIT\n",
              "  probability: NEGLIGIBLE\n",
              "}\n",
              "safety_ratings {\n",
              "  category: HARM_CATEGORY_HATE_SPEECH\n",
              "  probability: NEGLIGIBLE\n",
              "}\n",
              "safety_ratings {\n",
              "  category: HARM_CATEGORY_HARASSMENT\n",
              "  probability: NEGLIGIBLE\n",
              "}\n",
              "safety_ratings {\n",
              "  category: HARM_CATEGORY_DANGEROUS_CONTENT\n",
              "  probability: NEGLIGIBLE\n",
              "}\n",
              "]"
            ]
          },
          "execution_count": 11,
          "metadata": {},
          "output_type": "execute_result"
        }
      ],
      "source": [
        "response.candidates"
      ]
    },
    {
      "cell_type": "markdown",
      "metadata": {
        "id": "EJrwllLnHlBb"
      },
      "source": [
        "By default, the model returns a response after completing the entire generation process. You can also stream the response as it is being generated, and the model will return chunks of the response as soon as they are generated.\n",
        "\n",
        "To stream responses, use `GenerativeModel.generate_content(..., stream=True)`."
      ]
    },
    {
      "cell_type": "code",
      "execution_count": null,
      "metadata": {
        "id": "Z7n59b3hHo6-",
        "outputId": "38509c17-4cbf-4e14-f9d9-4b321d1f7104"
      },
      "outputs": [
        {
          "name": "stdout",
          "output_type": "stream",
          "text": [
            "CPU times: user 102 ms, sys: 25.1 ms, total: 128 ms\n",
            "Wall time: 7.94 s\n"
          ]
        }
      ],
      "source": [
        "%%time\n",
        "response = model.generate_content(\"What is the meaning of life?\", stream=True)"
      ]
    },
    {
      "cell_type": "code",
      "execution_count": null,
      "metadata": {
        "colab": {
          "base_uri": "https://localhost:8080/"
        },
        "id": "2jt0d0GCIUhg",
        "outputId": "fa1d68e9-fe06-4766-9036-34362f00f126"
      },
      "outputs": [
        {
          "name": "stdout",
          "output_type": "stream",
          "text": [
            "Football is a team sport played with a spherical ball between two teams of 11 players. It is played by passing, running, and kicking the ball into the opposing team's goal. The objective of the game is to score more goals than the other team by kicking the ball into the goal. Football is the most popular sport in the world, with an estimated 3.5 billion fans.\n",
            "\n",
            "The game is played on a rectangular field called a pitch. The pitch is divided into two halves by a halfway line. Each half is further divided into three sections: the attacking third, the midfield third, and the defensive third. The goal is located at each end of the pitch. Players use their feet, head, and chest to control and pass the ball. They can also score goals by kicking the ball into the goal.\n",
            "\n",
            "Football is a very physical sport. Players often tackle each other to try to win the ball. The game is also very fast-paced, with the ball often moving from one end of the pitch to the other in a matter of seconds.\n",
            "\n",
            "Football is played by people of all ages and abilities. There are leagues for professional players, amateur players, and youth players. The World Cup is the most prestigious football tournament in the world. It is held every four years and brings together the best national teams in the world.\n",
            "\n",
            "Here are some of the basic rules of football:\n",
            "\n",
            "* The game is played on a rectangular field called a pitch.\n",
            "* The pitch is divided into two halves by a halfway line.\n",
            "* Each half is further divided into three sections: the attacking third, the midfield third, and the defensive third.\n",
            "* The goal is located at each end of the pitch.\n",
            "* A team consists of 11 players, including one goalkeeper.\n",
            "* The goalkeeper is the only player who is allowed to use their hands to handle the ball.\n",
            "* Players use their feet, head, and chest to control and pass the ball.\n",
            "* They can also score goals by kicking the ball into the goal.\n",
            "* The team that scores the most goals wins the game.\n",
            "________________________________________________________________________________\n"
          ]
        }
      ],
      "source": [
        "for chunk in response:\n",
        "  print(chunk.text)\n",
        "  print(\"_\"*80)"
      ]
    },
    {
      "cell_type": "markdown",
      "metadata": {
        "id": "mVaFQ4RmqGOH"
      },
      "source": [
        "But attributes like `text` do not:"
      ]
    },
    {
      "cell_type": "code",
      "execution_count": null,
      "metadata": {
        "id": "TiRkS6nCqFmM",
        "outputId": "6f1f6990-c197-4275-f675-6e710fcdee11"
      },
      "outputs": [
        {
          "name": "stdout",
          "output_type": "stream",
          "text": [
            "IncompleteIterationError: Please let the response complete iteration before accessing the final accumulated\n",
            "attributes (or call `response.resolve()`)\n"
          ]
        }
      ],
      "source": [
        "try:\n",
        "  response.text\n",
        "except Exception as e:\n",
        "  print(f'{type(e).__name__}: {e}')"
      ]
    }
  ],
  "metadata": {
    "colab": {
      "provenance": []
    },
    "kernelspec": {
      "display_name": "Python 3",
      "name": "python3"
    }
  },
  "nbformat": 4,
  "nbformat_minor": 0
}
